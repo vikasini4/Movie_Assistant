{
  "cells": [
    {
      "cell_type": "markdown",
      "metadata": {
        "id": "i_xLFYD8a_h3"
      },
      "source": [
        "# Movie Recommendation - Milestone 3\n"
      ]
    },
    {
      "cell_type": "markdown",
      "metadata": {
        "id": "bAWwBBC2-FaA"
      },
      "source": [
        "<details>\n",
        "  <summary>Click in any of these links to compare your solution with ours up to this point</summary>\n",
        "  <p>\n",
        "    <a href=\"https://colab.research.google.com/github/AI-Core/movie-recommendation-solutions/blob/main/solution_m1.ipynb\" target=\"_parent\">Solution for milestone 1</a>\n",
        "  </p>\n",
        "    <p>\n",
        "        <a href=\"https://colab.research.google.com/github/AI-Core/movie-recommendation-solutions/blob/main/solution_m2.ipynb\" target=\"_parent\">Solution for milestone 2</a>\n",
        "    </p>\n",
        "</details>"
      ]
    },
    {
      "cell_type": "code",
      "execution_count": 1,
      "metadata": {
        "colab": {
          "base_uri": "https://localhost:8080/"
        },
        "id": "RLn-_E7Ba3Q4",
        "outputId": "efd93b93-6297-4b2d-bf06-9ca7c54270a8"
      },
      "outputs": [
        {
          "output_type": "stream",
          "name": "stdout",
          "text": [
            "Looking in indexes: https://pypi.org/simple, https://us-python.pkg.dev/colab-wheels/public/simple/\n",
            "Collecting movie-rec-marking-aicore\n",
            "  Downloading movie-rec-marking-aicore-0.1.3.tar.gz (5.2 kB)\n",
            "  Preparing metadata (setup.py) ... \u001b[?25l\u001b[?25hdone\n",
            "Requirement already satisfied: urllib3 in /usr/local/lib/python3.10/dist-packages (from movie-rec-marking-aicore) (1.26.15)\n",
            "Collecting timeout-decorator\n",
            "  Downloading timeout-decorator-0.5.0.tar.gz (4.8 kB)\n",
            "  Preparing metadata (setup.py) ... \u001b[?25l\u001b[?25hdone\n",
            "Building wheels for collected packages: movie-rec-marking-aicore, timeout-decorator\n",
            "  Building wheel for movie-rec-marking-aicore (setup.py) ... \u001b[?25l\u001b[?25hdone\n",
            "  Created wheel for movie-rec-marking-aicore: filename=movie_rec_marking_aicore-0.1.3-py3-none-any.whl size=8166 sha256=6bdd852aa8796ed14b2ba6da2c6385a961c9d35de81f5546a53e20d66c78f819\n",
            "  Stored in directory: /root/.cache/pip/wheels/5b/74/2c/a4f16d34cf8814c2d3bf5c2b795367187a88f3283722d9e3a1\n",
            "  Building wheel for timeout-decorator (setup.py) ... \u001b[?25l\u001b[?25hdone\n",
            "  Created wheel for timeout-decorator: filename=timeout_decorator-0.5.0-py3-none-any.whl size=5026 sha256=295803ba0d30b072a7b7b837adfbcc1bddde7cab81237d3b9a60cc37dcafec61\n",
            "  Stored in directory: /root/.cache/pip/wheels/68/2f/bc/76f1192d474666d41ae6f09813fccbd00fe3f07e8261c4cff5\n",
            "Successfully built movie-rec-marking-aicore timeout-decorator\n",
            "Installing collected packages: timeout-decorator, movie-rec-marking-aicore\n",
            "Successfully installed movie-rec-marking-aicore-0.1.3 timeout-decorator-0.5.0\n",
            "--2023-04-27 18:28:01--  https://aicore-files.s3.amazonaws.com/Movie-Recommendation/movies.json\n",
            "Resolving aicore-files.s3.amazonaws.com (aicore-files.s3.amazonaws.com)... 52.216.200.187, 52.217.66.12, 52.216.106.107, ...\n",
            "Connecting to aicore-files.s3.amazonaws.com (aicore-files.s3.amazonaws.com)|52.216.200.187|:443... connected.\n",
            "HTTP request sent, awaiting response... 200 OK\n",
            "Length: 158540 (155K) [application/json]\n",
            "Saving to: ‘movies.json’\n",
            "\n",
            "movies.json         100%[===================>] 154.82K   269KB/s    in 0.6s    \n",
            "\n",
            "2023-04-27 18:28:03 (269 KB/s) - ‘movies.json’ saved [158540/158540]\n",
            "\n"
          ]
        }
      ],
      "source": [
        "#@title # Run this cell to download the \"movies.json\" file. After running this, the file will be available in your workspace { display-mode: \"form\" }\n",
        "#@markdown Don’t worry about what’s in this collapsed cell, you’re not expected to understand the code inside\n",
        "!pip install movie-rec-marking-aicore --upgrade\n",
        "!wget https://aicore-files.s3.amazonaws.com/Movie-Recommendation/movies.json\n",
        "\n",
        "from movie_rec_marking import test_milestone_3"
      ]
    },
    {
      "cell_type": "markdown",
      "metadata": {
        "id": "MYQw48Lqa3Q4"
      },
      "source": [
        "# Task 1 \n",
        "### Load in the Full Movies Dataset from a File\n",
        "\n",
        "So far, the movies variable was initialised for you, but in this task, the list of movies is larger and are stored in a JSON (JavaScript Object Notation) file. The file is already available in this workspace if you ran the code cell above."
      ]
    },
    {
      "cell_type": "code",
      "execution_count": 3,
      "metadata": {
        "id": "1UpT9BAym0iW"
      },
      "outputs": [],
      "source": [
        "## Write your code here\n",
        "import json\n",
        "\n",
        "def load_movies_data():\n",
        "  with open(\"movies.json\", \"r\") as f: \n",
        "    movies = json.load(f)\n",
        "    return movies"
      ]
    },
    {
      "cell_type": "code",
      "execution_count": 4,
      "metadata": {
        "id": "5o_pQ75H-FaE",
        "outputId": "bc53b16f-a63f-41c3-922d-5ee7dd3cb896",
        "colab": {
          "base_uri": "https://localhost:8080/"
        }
      },
      "outputs": [
        {
          "output_type": "stream",
          "name": "stdout",
          "text": [
            "Great! The \"load_movies_data\" function returns the correct number of movies\n",
            "You can continue to the next task\n"
          ]
        }
      ],
      "source": [
        "#@title Run this cell to check your solution { display-mode: \"form\", run: \"auto\" }\n",
        "\n",
        "assert 'load_movies_data' in globals(), \"Please define the function load_movies_data\"\n",
        "task_1 = test_milestone_3.check_load_movies_data(load_movies_data)"
      ]
    },
    {
      "cell_type": "markdown",
      "metadata": {
        "id": "LP4jNLyu-FaF"
      },
      "source": [
        "# Task 2 \n",
        "\n",
        "### What are the Unique Genres?"
      ]
    },
    {
      "cell_type": "code",
      "execution_count": 5,
      "metadata": {
        "id": "WSV6F_UF-FaG"
      },
      "outputs": [],
      "source": [
        "## Write your code here\n",
        "def get_unique_genres():\n",
        "  movies = load_movies_data() \n",
        "  genres = []\n",
        "  for movie in movies:\n",
        "    genres.append(movie['genre'])\n",
        "  unique_genres = set(genres)\n",
        "  return unique_genres"
      ]
    },
    {
      "cell_type": "code",
      "execution_count": 6,
      "metadata": {
        "id": "ffjeUKou-FaG",
        "outputId": "19c885c6-977f-4391-adeb-a93c8e89c154",
        "colab": {
          "base_uri": "https://localhost:8080/"
        }
      },
      "outputs": [
        {
          "output_type": "stream",
          "name": "stdout",
          "text": [
            "Great! The \"get_unique_genres\" function returns the correct genres\n",
            "You can continue to the next task\n"
          ]
        }
      ],
      "source": [
        "#@title Run this cell to check your solution { display-mode: \"form\", run: \"auto\" }\n",
        "\n",
        "assert 'get_unique_genres' in globals(), \"Please define the function get_unique_genres\"\n",
        "task_2 = test_milestone_3.check_get_unique_genres(get_unique_genres, task_1)"
      ]
    },
    {
      "cell_type": "markdown",
      "metadata": {
        "id": "QXS46Iy1-FaH"
      },
      "source": [
        "# Task 3\n",
        "\n",
        "### Filter by Genre"
      ]
    },
    {
      "cell_type": "code",
      "execution_count": 7,
      "metadata": {
        "id": "ptVz6PoG-FaI"
      },
      "outputs": [],
      "source": [
        "## Write your code here\n",
        "def get_movies_in_genre(genre):\n",
        "  movies = load_movies_data()\n",
        "  return [movie for movie in movies if movie['genre'] == genre]"
      ]
    },
    {
      "cell_type": "code",
      "execution_count": 8,
      "metadata": {
        "id": "Bh_CAL51-FaI",
        "outputId": "eaa5ae37-883f-4f4f-85fc-bf1466d62b95",
        "colab": {
          "base_uri": "https://localhost:8080/"
        }
      },
      "outputs": [
        {
          "output_type": "stream",
          "name": "stdout",
          "text": [
            "Great! The \"get_movies_in_genre\" function returns the correct number of movies\n",
            "Amazing! You have complete the third milestone of the project! Two more to go!\n"
          ]
        }
      ],
      "source": [
        "#@title Run this cell to check your solution { display-mode: \"form\", run: \"auto\" }\n",
        "\n",
        "assert 'get_movies_in_genre' in globals(), \"Please define the function get_movies_in_genre\"\n",
        "task_3 = test_milestone_3.check_get_movies_in_genre(get_movies_in_genre, task_2)"
      ]
    }
  ],
  "metadata": {
    "colab": {
      "provenance": []
    },
    "kernelspec": {
      "display_name": "Python 3.9.5 ('base')",
      "language": "python",
      "name": "python3"
    },
    "language_info": {
      "codemirror_mode": {
        "name": "ipython",
        "version": 3
      },
      "file_extension": ".py",
      "mimetype": "text/x-python",
      "name": "python",
      "nbconvert_exporter": "python",
      "pygments_lexer": "ipython3",
      "version": "3.9.5 (default, Jun  4 2021, 12:28:51) \n[GCC 7.5.0]"
    },
    "orig_nbformat": 4,
    "vscode": {
      "interpreter": {
        "hash": "ce99af5845ff7f417c6fe57e3883abe41597db90e3f493c4f9da5159bbc46102"
      }
    }
  },
  "nbformat": 4,
  "nbformat_minor": 0
}