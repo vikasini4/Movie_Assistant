{
  "cells": [
    {
      "cell_type": "markdown",
      "metadata": {
        "id": "i_xLFYD8a_h3"
      },
      "source": [
        "# Movie Recommendation - Milestone 1\n",
        "\n",
        "### Instructions:\n",
        "\n",
        "> To complete this project, you need to follow the instructions you see on the AiCore portal. \n",
        ">\n",
        ">  This notebook allows you to write your code and run it, and once you have your solution ready, you can submit it using the form at each step.\n",
        ">\n",
        ">  For example, for the first task, you need to check how many movies are in the list of movies. You can do this by writing your code in the cell that says `Task 1` and then running the cell. You can run the cell by clicking the play button on the left of the cell, or by pressing `Shift + Enter`.\n",
        ">\n",
        ">  Once you have a solution, the next cell will contain a form that you can use to submit your solution. You can submit your solution by clicking on the play button on the left of the cell, and then entering your solution in the form that appears. You can submit your solution as many times as you want, and the last submission will be considered as your final solution."
      ]
    },
    {
      "cell_type": "code",
      "execution_count": 12,
      "metadata": {
        "colab": {
          "base_uri": "https://localhost:8080/"
        },
        "id": "RLn-_E7Ba3Q4",
        "outputId": "ef597e51-0e52-4b03-e5a5-45444ff80f42"
      },
      "outputs": [
        {
          "output_type": "stream",
          "name": "stdout",
          "text": [
            "Looking in indexes: https://pypi.org/simple, https://us-python.pkg.dev/colab-wheels/public/simple/\n",
            "Requirement already satisfied: movie-rec-marking-aicore in /usr/local/lib/python3.10/dist-packages (0.1.3)\n",
            "Requirement already satisfied: timeout-decorator in /usr/local/lib/python3.10/dist-packages (from movie-rec-marking-aicore) (0.5.0)\n",
            "Requirement already satisfied: urllib3 in /usr/local/lib/python3.10/dist-packages (from movie-rec-marking-aicore) (1.26.15)\n",
            "--2023-04-27 17:35:21--  https://aicore-files.s3.amazonaws.com/Movie-Recommendation/movies-head.json\n",
            "Resolving aicore-files.s3.amazonaws.com (aicore-files.s3.amazonaws.com)... 52.217.225.185, 52.216.93.107, 52.217.124.81, ...\n",
            "Connecting to aicore-files.s3.amazonaws.com (aicore-files.s3.amazonaws.com)|52.217.225.185|:443... connected.\n",
            "HTTP request sent, awaiting response... 200 OK\n",
            "Length: 3186 (3.1K) [application/json]\n",
            "Saving to: ‘movies-head.json.1’\n",
            "\n",
            "movies-head.json.1  100%[===================>]   3.11K  --.-KB/s    in 0s      \n",
            "\n",
            "2023-04-27 17:35:21 (156 MB/s) - ‘movies-head.json.1’ saved [3186/3186]\n",
            "\n"
          ]
        }
      ],
      "source": [
        "#@title # Run this cell before you start coding { display-mode: \"form\" }\n",
        "#@markdown Don’t worry about what’s in this collapsed cell, you’re not expected to understand the code inside\n",
        "!pip install movie-rec-marking-aicore --upgrade\n",
        "!wget https://aicore-files.s3.amazonaws.com/Movie-Recommendation/movies-head.json\n",
        "import json\n",
        "from movie_rec_marking import test_milestone_1\n",
        "\n",
        "# Load the movies\n",
        "with open('movies-head.json', 'r') as f:\n",
        "    movies = json.load(f)"
      ]
    },
    {
      "cell_type": "markdown",
      "metadata": {
        "id": "MYQw48Lqa3Q4"
      },
      "source": [
        "# Task 1\n",
        "\n",
        "### Count the data\n",
        "\n",
        "The movies are stored in a variable called `movies`. This variable contains a list. Count the length of that list to get the number of movies"
      ]
    },
    {
      "cell_type": "code",
      "execution_count": 14,
      "metadata": {
        "id": "1UpT9BAym0iW",
        "outputId": "9d171fa0-8368-4d86-f088-5fbdb21cfe89",
        "colab": {
          "base_uri": "https://localhost:8080/"
        }
      },
      "outputs": [
        {
          "output_type": "execute_result",
          "data": {
            "text/plain": [
              "5"
            ]
          },
          "metadata": {},
          "execution_count": 14
        }
      ],
      "source": [
        "## You can use this cell for any computation you want\n",
        "len(movies)"
      ]
    },
    {
      "cell_type": "code",
      "execution_count": 18,
      "metadata": {
        "colab": {
          "base_uri": "https://localhost:8080/"
        },
        "id": "aDmHRI9ca3Q4",
        "outputId": "8f62631b-b106-4f59-d51c-763c5929a158"
      },
      "outputs": [
        {
          "output_type": "stream",
          "name": "stdout",
          "text": [
            "Great! The length of the movie list is correct - 5\n",
            "You can continue to the next task\n"
          ]
        }
      ],
      "source": [
        "#@title Enter your solution here { display-mode: \"form\", run: \"auto\" }\n",
        "number_movies = 5 #@param {type:\"number\"}\n",
        "task_1 = test_milestone_1.check_length(number_movies)\n",
        "    "
      ]
    },
    {
      "cell_type": "markdown",
      "metadata": {
        "id": "vbOOH6Q1yIRH"
      },
      "source": [
        "# Task 2\n",
        "\n",
        "### Select the first movie"
      ]
    },
    {
      "cell_type": "code",
      "execution_count": 19,
      "metadata": {
        "id": "7e2Yal2VyIRI",
        "outputId": "9aa15022-26b9-42f2-9af2-933db0fee313",
        "colab": {
          "base_uri": "https://localhost:8080/"
        }
      },
      "outputs": [
        {
          "output_type": "execute_result",
          "data": {
            "text/plain": [
              "{'title': 'The Shawshank Redemption',\n",
              " 'description': 'Two imprisoned men bond over a number of years, finding solace and eventual redemption through acts of common decency.',\n",
              " 'genre': 'Drama',\n",
              " 'image_url': 'https://m.media-amazon.com/images/M/MV5BMDFkYTc0MGEtZmNhMC00ZDIzLWFmNTEtODM1ZmRlYWMwMWFmXkEyXkFqcGdeQXVyMTMxODk2OTU@._V1_UY67_CR0,0,45,67_AL_.jpg',\n",
              " 'link': 'https://imdb.com/title/tt0111161/?pf_rd_m=A2FGELUUNOQJNL&pf_rd_p=1a264172-ae11-42e4-8ef7-7fed1973bb8f&pf_rd_r=VZEYAR8ZVPNKZ9V7MV87&pf_rd_s=center-1&pf_rd_t=15506&pf_rd_i=top&ref_=chttp_tt_1'}"
            ]
          },
          "metadata": {},
          "execution_count": 19
        }
      ],
      "source": [
        "## You can use this cell for any computation you want\n",
        "movies[0]"
      ]
    },
    {
      "cell_type": "code",
      "execution_count": 22,
      "metadata": {
        "id": "D5ObuTwNyIRI",
        "outputId": "5447a7e3-a2cb-4638-c5a7-12058a6976d9",
        "colab": {
          "base_uri": "https://localhost:8080/"
        }
      },
      "outputs": [
        {
          "output_type": "stream",
          "name": "stdout",
          "text": [
            "Great! The first movie in the list is correct - The Shawshank Redemption\n",
            "You can continue to the next task\n"
          ]
        }
      ],
      "source": [
        "#@title Enter your solution here { display-mode: \"form\", run: \"auto\" }\n",
        "\n",
        "first_movie = \"The Shawshank Redemption\" #@param [\"The Shawshank Redemption\", \"The Godfather\", \"The Dark Knight\", \"The Iron Giant\"] {allow-input: true}\n",
        "data_type = \"dict\" #@param [\"string\", \"int\", \"float\", \"list\", \"dict\"] {allow-input: true}\n",
        "task_2 = test_milestone_1.check_first_movie(first_movie, data_type, task_1)"
      ]
    },
    {
      "cell_type": "markdown",
      "metadata": {
        "id": "csbVTcFDyIRJ"
      },
      "source": [
        "# Task 3\n",
        "\n",
        "### Explore that Movie"
      ]
    },
    {
      "cell_type": "code",
      "execution_count": 23,
      "metadata": {
        "id": "ItxfjlD0yIRJ",
        "outputId": "b3c3aa7d-de43-4078-e21a-abaaf111b4ab",
        "colab": {
          "base_uri": "https://localhost:8080/"
        }
      },
      "outputs": [
        {
          "output_type": "stream",
          "name": "stdout",
          "text": [
            "https://imdb.com/title/tt0111161/?pf_rd_m=A2FGELUUNOQJNL&pf_rd_p=1a264172-ae11-42e4-8ef7-7fed1973bb8f&pf_rd_r=VZEYAR8ZVPNKZ9V7MV87&pf_rd_s=center-1&pf_rd_t=15506&pf_rd_i=top&ref_=chttp_tt_1\n",
            "chttp_tt_1\n"
          ]
        }
      ],
      "source": [
        "## You can use this cell for any computation you want\n",
        "movie1_dic = movies[0]\n",
        "link_str = movie1_dic['link']\n",
        "print(link_str)\n",
        "print(link_str[-10:])"
      ]
    },
    {
      "cell_type": "code",
      "execution_count": 25,
      "metadata": {
        "id": "L4K7CbWFyIRK",
        "outputId": "060e0329-7e27-428a-b2de-ed6bae7bb457",
        "colab": {
          "base_uri": "https://localhost:8080/"
        }
      },
      "outputs": [
        {
          "output_type": "stream",
          "name": "stdout",
          "text": [
            "Great! The last 10 characters in the url are correct - chtt_tt_1\n",
            "Great! You have completed the first milestone of the project\n"
          ]
        }
      ],
      "source": [
        "#@title What are the last 10 characters of the link? { display-mode: \"form\", run: \"auto\" }\n",
        "\n",
        "first_movie = \"chttp_tt_1\" #@param [\"chttp_tt_1\", \"chttp_tt_2\", \"https://im\", \"ttp_tt_250\"] {allow-input: true}\n",
        "task_3 = test_milestone_1.check_last_characters(first_movie, task_2)"
      ]
    }
  ],
  "metadata": {
    "colab": {
      "provenance": []
    },
    "kernelspec": {
      "display_name": "base",
      "language": "python",
      "name": "python3"
    },
    "language_info": {
      "codemirror_mode": {
        "name": "ipython",
        "version": 3
      },
      "file_extension": ".py",
      "mimetype": "text/x-python",
      "name": "python",
      "nbconvert_exporter": "python",
      "pygments_lexer": "ipython3",
      "version": "3.9.12 (main, Apr  5 2022, 06:56:58) \n[GCC 7.5.0]"
    },
    "orig_nbformat": 4,
    "vscode": {
      "interpreter": {
        "hash": "a2592652612463181e69ac003232387e3e9a99279aa6b168e76f5df16d5110f4"
      }
    }
  },
  "nbformat": 4,
  "nbformat_minor": 0
}