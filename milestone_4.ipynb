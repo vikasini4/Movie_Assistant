{
  "cells": [
    {
      "cell_type": "markdown",
      "metadata": {
        "id": "i_xLFYD8a_h3"
      },
      "source": [
        "# Movie Recommendation - Milestone 4\n"
      ]
    },
    {
      "cell_type": "markdown",
      "metadata": {
        "id": "W0iQWlaNCtVI"
      },
      "source": [
        "<details>\n",
        "  <summary>Click in any of these links to compare your solution with ours up to this point</summary>\n",
        "  <p>\n",
        "    <a href=\"https://colab.research.google.com/github/AI-Core/movie-recommendation-solutions/blob/main/solution_m1.ipynb\" target=\"_parent\">Solution for milestone 1</a>\n",
        "  </p>\n",
        "  <p>\n",
        "    <a href=\"https://colab.research.google.com/github/AI-Core/movie-recommendation-solutions/blob/main/solution_m2.ipynb\" target=\"_parent\">Solution for milestone 2</a>\n",
        "  </p>\n",
        "    <p>\n",
        "        <a href=\"https://colab.research.google.com/github/AI-Core/movie-recommendation-solutions/blob/main/solution_m3.ipynb\" target=\"_parent\">Solution for milestone 3</a>\n",
        "    </p>\n",
        "</details>"
      ]
    },
    {
      "cell_type": "code",
      "execution_count": 1,
      "metadata": {
        "id": "keWXjfCUCtVJ",
        "outputId": "a686b191-58c3-423c-b49e-37b0fa1865ab",
        "colab": {
          "base_uri": "https://localhost:8080/"
        }
      },
      "outputs": [
        {
          "output_type": "stream",
          "name": "stdout",
          "text": [
            "Looking in indexes: https://pypi.org/simple, https://us-python.pkg.dev/colab-wheels/public/simple/\n",
            "Collecting movie-rec-marking-aicore\n",
            "  Downloading movie-rec-marking-aicore-0.1.3.tar.gz (5.2 kB)\n",
            "  Preparing metadata (setup.py) ... \u001b[?25l\u001b[?25hdone\n",
            "Requirement already satisfied: urllib3 in /usr/local/lib/python3.10/dist-packages (from movie-rec-marking-aicore) (1.26.15)\n",
            "Collecting timeout-decorator\n",
            "  Downloading timeout-decorator-0.5.0.tar.gz (4.8 kB)\n",
            "  Preparing metadata (setup.py) ... \u001b[?25l\u001b[?25hdone\n",
            "Building wheels for collected packages: movie-rec-marking-aicore, timeout-decorator\n",
            "  Building wheel for movie-rec-marking-aicore (setup.py) ... \u001b[?25l\u001b[?25hdone\n",
            "  Created wheel for movie-rec-marking-aicore: filename=movie_rec_marking_aicore-0.1.3-py3-none-any.whl size=8166 sha256=163d8d0cc714a35fe147bf6bfdd586e97bf61259973e4016fc2b299cdde2b5f0\n",
            "  Stored in directory: /root/.cache/pip/wheels/5b/74/2c/a4f16d34cf8814c2d3bf5c2b795367187a88f3283722d9e3a1\n",
            "  Building wheel for timeout-decorator (setup.py) ... \u001b[?25l\u001b[?25hdone\n",
            "  Created wheel for timeout-decorator: filename=timeout_decorator-0.5.0-py3-none-any.whl size=5026 sha256=facc8e3df1c2aa69a1ec48ff55c84a5b2e5c8025922e02a3262493fbd05e907e\n",
            "  Stored in directory: /root/.cache/pip/wheels/68/2f/bc/76f1192d474666d41ae6f09813fccbd00fe3f07e8261c4cff5\n",
            "Successfully built movie-rec-marking-aicore timeout-decorator\n",
            "Installing collected packages: timeout-decorator, movie-rec-marking-aicore\n",
            "Successfully installed movie-rec-marking-aicore-0.1.3 timeout-decorator-0.5.0\n",
            "--2023-04-27 18:48:10--  https://aicore-files.s3.amazonaws.com/Movie-Recommendation/movies.json\n",
            "Resolving aicore-files.s3.amazonaws.com (aicore-files.s3.amazonaws.com)... 52.216.143.156, 52.217.16.132, 52.217.204.89, ...\n",
            "Connecting to aicore-files.s3.amazonaws.com (aicore-files.s3.amazonaws.com)|52.216.143.156|:443... connected.\n",
            "HTTP request sent, awaiting response... 200 OK\n",
            "Length: 158540 (155K) [application/json]\n",
            "Saving to: ‘movies.json’\n",
            "\n",
            "movies.json         100%[===================>] 154.82K  --.-KB/s    in 0.06s   \n",
            "\n",
            "2023-04-27 18:48:10 (2.51 MB/s) - ‘movies.json’ saved [158540/158540]\n",
            "\n"
          ]
        }
      ],
      "source": [
        "#@title # Run the following cell to add the `movies` variable and the `get_unique_genres` and `get_movies_in_genre` functions will be available for you to use. { display-mode: \"form\" }\n",
        "#@markdown Don’t worry about what’s in this collapsed cell, you’re not expected to understand the code inside\n",
        "\n",
        "!pip install movie-rec-marking-aicore --upgrade\n",
        "!wget https://aicore-files.s3.amazonaws.com/Movie-Recommendation/movies.json\n",
        "from movie_rec_marking import test_milestone_4\n",
        "import json\n",
        "with open('movies.json', 'r') as f:\n",
        "    movies = json.load(f)\n",
        "\n",
        "def get_unique_genres():\n",
        "    genres = []\n",
        "    for movie in movies:\n",
        "        genres.append(movie[\"genre\"])\n",
        "    genres = set(genres)\n",
        "    return genres\n",
        "\n",
        "def get_movies_in_genre(genre):\n",
        "    movies_in_genre = []\n",
        "    for movie in movies:\n",
        "        if movie[\"genre\"] == genre:\n",
        "            movies_in_genre.append(movie)\n",
        "    return movies_in_genre"
      ]
    },
    {
      "cell_type": "markdown",
      "metadata": {
        "id": "MYQw48Lqa3Q4"
      },
      "source": [
        "# Task 1 \n",
        "### Ask the user what genre they are interested in"
      ]
    },
    {
      "cell_type": "code",
      "execution_count": 2,
      "metadata": {
        "id": "1UpT9BAym0iW"
      },
      "outputs": [],
      "source": [
        "## Write your code here\n",
        "def get_user_genre_choice():\n",
        "  unique_genres = get_unique_genres()\n",
        "  print(\"You can choose from the following list of genre: \")\n",
        "  for genre in unique_genres:\n",
        "    print(genre)\n",
        "  genre_choice = input(\"Enter the genre of choice: \")\n",
        "  return genre_choice"
      ]
    },
    {
      "cell_type": "code",
      "execution_count": 3,
      "metadata": {
        "id": "w4kPoVWICtVN",
        "outputId": "34accd09-5132-460e-f1c8-708bd30a9c4a",
        "colab": {
          "base_uri": "https://localhost:8080/"
        }
      },
      "outputs": [
        {
          "output_type": "stream",
          "name": "stdout",
          "text": [
            "Great! The \"get_user_genre_choice\" function prints the correct genre\n",
            "You can continue to the next task\n"
          ]
        }
      ],
      "source": [
        "#@title Run this cell to check your solution { display-mode: \"form\", run: \"auto\" }\n",
        "\n",
        "assert 'get_user_genre_choice' in globals(), \"You need to define a function called get_user_genre_choice\"\n",
        "task_1 = test_milestone_4.check_get_user_genre_choice(get_user_genre_choice)"
      ]
    },
    {
      "cell_type": "markdown",
      "metadata": {
        "id": "m-czKOn7CtVO"
      },
      "source": [
        "# Task 2 \n",
        "\n",
        "### Show the Movies in the Selected Genre"
      ]
    },
    {
      "cell_type": "code",
      "execution_count": 8,
      "metadata": {
        "id": "E56btMscCtVO",
        "outputId": "6a114003-fb09-4ebd-8ce8-a2ec287f157e",
        "colab": {
          "base_uri": "https://localhost:8080/"
        }
      },
      "outputs": [
        {
          "output_type": "stream",
          "name": "stdout",
          "text": [
            "You can choose from the following list of genre: \n",
            "Biography\n",
            "Action\n",
            "Adventure\n",
            "Comedy\n",
            "Drama\n",
            "Film-Noir\n",
            "Western\n",
            "Horror\n",
            "Crime\n",
            "Animation\n",
            "Mystery\n",
            "Enter the genre of choice: Crime\n",
            "1: The Godfather \n",
            "2: The Godfather: Part II \n",
            "3: 12 Angry Men \n",
            "4: Pulp Fiction \n",
            "5: Seven \n",
            "6: The Silence of the Lambs \n",
            "7: City of God \n",
            "8: The Green Mile \n",
            "9: American History X \n",
            "10: The Departed \n",
            "11: The Usual Suspects \n",
            "12: Witness for the Prosecution \n",
            "13: Joker \n",
            "14: Once Upon a Time in America \n",
            "15: High and Low \n",
            "16: Reservoir Dogs \n",
            "17: M \n",
            "18: A Clockwork Orange \n",
            "19: Double Indemnity \n",
            "20: Scarface \n",
            "21: To Kill a Mockingbird \n",
            "22: Taxi Driver \n",
            "23: L.A. Confidential \n",
            "24: Casino \n",
            "25: Rashomon \n",
            "26: No Country for Old Men \n",
            "27: Dial M for Murder \n",
            "28: Fargo \n",
            "29: Prisoners \n",
            "30: On the Waterfront \n",
            "31: Memories of Murder \n",
            "32: Jai Bhim \n",
            "33: La Haine \n",
            "34: Cool Hand Luke \n",
            "35: The 400 Blows \n"
          ]
        }
      ],
      "source": [
        "## Write your code here\n",
        "\n",
        "genre_choice = get_user_genre_choice()\n",
        "movies_in_genre = get_movies_in_genre(genre_choice)\n",
        "\n",
        "for count, element in enumerate(movies_in_genre, start=1):\n",
        "    print(f\"{count}: {element['title']} \")"
      ]
    },
    {
      "cell_type": "code",
      "execution_count": null,
      "metadata": {
        "id": "6Qg6Nt8LCtVP"
      },
      "outputs": [],
      "source": [
        "#@title Enter your solution here { display-mode: \"form\", run: \"auto\" }\n",
        "#@markdown For Action, which is the movie corresponding to index 12?\n",
        "first_movie = \"Gladiator\" #@param [\"The Dark Knight\", \"Leon\", \"Harakiri\", \"Gladiator\", \"Pirates of the Caribbean: The Curse of the Black Pearl\"] {allow-input: true}\n",
        "#@markdown For Drama, which is the movie corresponding to index 7?\n",
        "second_movie = \"Parasite\" #@param [\"The Help\", \"The Shawshank Redemption\", \"The Prestige\", \"Parasite\", \"Saving Private Ryan\"] {allow-input: true}\n",
        "\n",
        "#@markdown For Crime, which is the movie corresponding to index 26?\n",
        "third_movie = \"No Country for Old Men\" #@param [\"Rashomon\", \"Reservoir Dogs\", \"The Godfather\", \"No Country for Old Men\", \"Dial M for Murder\"] {allow-input: true}\n",
        "task_2 = test_milestone_4.check_get_movies_in_genre(first_movie, second_movie, third_movie, task_1)"
      ]
    },
    {
      "cell_type": "markdown",
      "metadata": {
        "id": "KN-QqQ0oCtVP"
      },
      "source": [
        "# Task 3\n",
        "\n",
        "### Ask the User to Select one of the Movies Shown, then Finally, Display the Details of the Movie"
      ]
    },
    {
      "cell_type": "code",
      "execution_count": 22,
      "metadata": {
        "id": "Fr8Q7gbkCtVP",
        "outputId": "5618ce03-e6cd-4a62-db29-6daceaa1aee9",
        "colab": {
          "base_uri": "https://localhost:8080/"
        }
      },
      "outputs": [
        {
          "output_type": "stream",
          "name": "stdout",
          "text": [
            "You can choose from the following list of genre: \n",
            "Biography\n",
            "Action\n",
            "Adventure\n",
            "Comedy\n",
            "Drama\n",
            "Film-Noir\n",
            "Western\n",
            "Horror\n",
            "Crime\n",
            "Animation\n",
            "Mystery\n",
            "Enter the genre of choice: Action\n",
            "1: The Dark Knight \n",
            "2: The Lord of the Rings: The Return of the King \n",
            "3: The Lord of the Rings: The Fellowship of the Ring \n",
            "4: Inception \n",
            "5: The Lord of the Rings: The Two Towers \n",
            "6: Star Wars: Episode V - The Empire Strikes Back \n",
            "7: The Matrix \n",
            "8: Seven Samurai \n",
            "9: Star Wars \n",
            "10: Terminator 2: Judgment Day \n",
            "11: Leon \n",
            "12: Gladiator \n",
            "13: Harakiri \n",
            "14: Raiders of the Lost Ark \n",
            "15: Avengers: Infinity War \n",
            "16: Aliens \n",
            "17: The Dark Knight Rises \n",
            "18: Oldboy \n",
            "19: Top Gun: Maverick \n",
            "20: Avengers: Endgame \n",
            "21: Star Wars: Return of the Jedi \n",
            "22: North by Northwest \n",
            "23: Heat \n",
            "24: Die Hard \n",
            "25: Indiana Jones and the Last Crusade \n",
            "26: 1917 \n",
            "27: Batman Begins \n",
            "28: Dangal \n",
            "29: Ran \n",
            "30: Spider-Man: No Way Home \n",
            "31: Yojimbo \n",
            "32: Jurassic Park \n",
            "33: Kill Bill: Vol. 1 \n",
            "34: V for Vendetta \n",
            "35: Lock, Stock and Two Smoking Barrels \n",
            "36: Warrior \n",
            "37: Blade Runner \n",
            "38: The General \n",
            "39: Sherlock Jr. \n",
            "40: Mad Max: Fury Road \n",
            "41: Le Mans '66 \n",
            "42: Everything Everywhere All at Once \n",
            "43: The Terminator \n",
            "44: Rush \n",
            "45: Logan \n",
            "46: Pirates of the Caribbean: The Curse of the Black Pearl \n",
            "Select movie number: 12\n",
            "title, Gladiator\n",
            "description, A former Roman General sets out to exact vengeance against the corrupt emperor who murdered his family and sent him into slavery.\n",
            "genre, Action\n",
            "image_url, https://m.media-amazon.com/images/M/MV5BMDliMmNhNDEtODUyOS00MjNlLTgxODEtN2U3NzIxMGVkZTA1L2ltYWdlXkEyXkFqcGdeQXVyNjU0OTQ0OTY@._V1_UY67_CR0,0,45,67_AL_.jpg\n",
            "link, https://imdb.com/title/tt0172495/?pf_rd_m=A2FGELUUNOQJNL&pf_rd_p=1a264172-ae11-42e4-8ef7-7fed1973bb8f&pf_rd_r=VZEYAR8ZVPNKZ9V7MV87&pf_rd_s=center-1&pf_rd_t=15506&pf_rd_i=top&ref_=chttp_tt_37\n"
          ]
        }
      ],
      "source": [
        "## Write your code here\n",
        "def get_movie_by_index(): \n",
        "  # get the user genre choice\n",
        "  genre_choice = get_user_genre_choice()\n",
        "\n",
        "  # get the movies in the user genre choice\n",
        "  movies_in_genre = get_movies_in_genre(genre_choice)\n",
        "\n",
        "  # print the movie name\n",
        "  for count, element in enumerate(movies_in_genre, start=1):\n",
        "    print(f\"{count}: {element['title']} \")\n",
        "    \n",
        "  # ask user to select the movie index\n",
        "  select_movie_index = int(input(\"Select movie number: \"))\n",
        "\n",
        "  # match the index in the movies_in_genre\n",
        "  for key, value in movies_in_genre[select_movie_index-1].items():\n",
        "    print(f\"{key}, {value}\")\n",
        "\n",
        "get_movie_by_index()"
      ]
    },
    {
      "cell_type": "code",
      "execution_count": 24,
      "metadata": {
        "id": "00cXs8ILCtVQ",
        "outputId": "c9edea3b-ff26-4089-ce13-06642440c646",
        "colab": {
          "base_uri": "https://localhost:8080/"
        }
      },
      "outputs": [
        {
          "output_type": "stream",
          "name": "stdout",
          "text": [
            "Great! The \"get_movie_by_index\" function is defined correctly\n",
            "You have completed the fourth milestone of the project! Congratulations!\n"
          ]
        }
      ],
      "source": [
        "#@title Run this cell to check your solution { display-mode: \"form\", run: \"auto\" }\n",
        "\n",
        "assert 'get_movie_by_index' in globals(), \"You need to define a function called check_get_movie_by_index\"\n",
        "task_2 = test_milestone_4.check_get_movie_by_index(get_movie_by_index, task_1)"
      ]
    }
  ],
  "metadata": {
    "colab": {
      "provenance": []
    },
    "kernelspec": {
      "display_name": "Python 3.9.5 ('base')",
      "language": "python",
      "name": "python3"
    },
    "language_info": {
      "codemirror_mode": {
        "name": "ipython",
        "version": 3
      },
      "file_extension": ".py",
      "mimetype": "text/x-python",
      "name": "python",
      "nbconvert_exporter": "python",
      "pygments_lexer": "ipython3",
      "version": "3.9.5 (default, Jun  4 2021, 12:28:51) \n[GCC 7.5.0]"
    },
    "orig_nbformat": 4,
    "vscode": {
      "interpreter": {
        "hash": "ce99af5845ff7f417c6fe57e3883abe41597db90e3f493c4f9da5159bbc46102"
      }
    }
  },
  "nbformat": 4,
  "nbformat_minor": 0
}